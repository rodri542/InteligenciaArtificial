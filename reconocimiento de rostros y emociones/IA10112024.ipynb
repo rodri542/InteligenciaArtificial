{
 "cells": [
  {
   "cell_type": "code",
   "execution_count": 4,
   "id": "d219021c",
   "metadata": {},
   "outputs": [],
   "source": [
    "import cv2 as cv\n",
    "import numpy as np"
   ]
  },
  {
   "cell_type": "markdown",
   "id": "1941e4dc",
   "metadata": {},
   "source": [
    "# Cargar imagen"
   ]
  },
  {
   "cell_type": "code",
   "execution_count": null,
   "id": "1ec7c15f",
   "metadata": {},
   "outputs": [],
   "source": [
    "img = cv.imread('tr.png',0)\n",
    "w,h=img.shape\n",
    "img2 = np.ones((w*2, h*2), dtype=np.uint8)*150\n",
    "cv.imshow('marco1', img2)\n",
    "for i in range(w):\n",
    "    for j in range(h):\n",
    "#          img[i,j]=255-img[i,j]\n",
    "#        if(img[i,j]>150):\n",
    "#            img[i,j]=255\n",
    "#        else:\n",
    "#            img[i,j]=0\n",
    "cv.imshow('marco2', img)\n",
    "cv.waitKey(0)\n",
    "cv.destroyAllWindows()"
   ]
  },
  {
   "cell_type": "code",
   "execution_count": null,
   "id": "998bb674",
   "metadata": {},
   "outputs": [],
   "source": [
    "pwd"
   ]
  },
  {
   "cell_type": "code",
   "execution_count": null,
   "id": "38bd42ef",
   "metadata": {},
   "outputs": [],
   "source": []
  },
  {
   "cell_type": "code",
   "execution_count": 2,
   "id": "44a64a65",
   "metadata": {},
   "outputs": [],
   "source": [
    "import numpy as np \n",
    "import cv2 as cv"
   ]
  },
  {
   "cell_type": "code",
   "execution_count": null,
   "id": "a307e87a",
   "metadata": {},
   "outputs": [],
   "source": [
    "def escala(imx, escala):\n",
    "    width = int(imx.shape[1] * escala / 100)\n",
    "    height = int(imx.shape[0] * escala / 100)\n",
    "    size = (width, height)\n",
    "    im = cv.resize(imx, size, interpolation = cv.INTER_AREA)\n",
    "    return im\n"
   ]
  },
  {
   "cell_type": "code",
   "execution_count": null,
   "id": "d551488d",
   "metadata": {},
   "outputs": [],
   "source": [
    "img = cv.imread('tr.png',0)\n",
    "img2 = escala(img, 200)\n",
    "cv.imshow('original', img)\n",
    "cv.imshow('escalada', img2)\n",
    "cv.waitKey(0)\n",
    "cv.destroyAllWindows()"
   ]
  },
  {
   "cell_type": "code",
   "execution_count": null,
   "id": "74d6ba4e",
   "metadata": {},
   "outputs": [],
   "source": [
    "img = cv.imread('tr.png',0)\n",
    "w,h=img.shape\n",
    "img2 = np.zeros((w*2, h*2), dtype=np.uint8)\n",
    "cv.imshow('marco1', img)\n",
    "for i in range(w):\n",
    "    for j in range(h):\n",
    "        img2[i+20,j+20]=img[i,j]\n",
    "cv.imshow('marco2', img2)\n",
    "cv.waitKey(0)\n",
    "cv.destroyAllWindows()"
   ]
  },
  {
   "cell_type": "code",
   "execution_count": null,
   "id": "a5e7c3c1",
   "metadata": {},
   "outputs": [],
   "source": [
    "img = cv.imread('tr.png',1)\n",
    "w,h=img.shape[:2]\n",
    "img2 = np.zeros((w, h), dtype=np.uint8)\n",
    "b,g,r=cv.split(img)\n",
    "cv.imshow('b', b)\n",
    "cv.imshow('g', g)\n",
    "cv.imshow('r', r)\n",
    "b1 = cv.merge([b, r, img2])\n",
    "g1 = cv.merge([r, g, b])\n",
    "r1 = cv.merge([b, g, r])\n",
    "cv.imshow('b1', b1)\n",
    "cv.imshow('g1', g1)\n",
    "cv.imshow('r1', r1)\n",
    "cv.imshow('marco2', img2)\n",
    "cv.waitKey(0)\n",
    "cv.destroyAllWindows()"
   ]
  },
  {
   "cell_type": "code",
   "execution_count": null,
   "id": "42c5f2b1",
   "metadata": {},
   "outputs": [],
   "source": [
    "img = cv.imread('tr.png',1)\n",
    "img2 = cv.cvtColor(img, cv.COLOR_BGR2GRAY) \n",
    "img3 = cv.cvtColor(img, cv.COLOR_BGR2HSV)\n",
    "cv.imshow('img', img)\n",
    "cv.imshow('img2', img2)\n",
    "cv.imshow('img2', img3)\n",
    "\n",
    "cv.waitKey(0)\n",
    "cv.destroyAllWindows()"
   ]
  },
  {
   "cell_type": "code",
   "execution_count": null,
   "id": "368fb7ac",
   "metadata": {},
   "outputs": [],
   "source": [
    "\n"
   ]
  },
  {
   "cell_type": "code",
   "execution_count": null,
   "id": "4c880999",
   "metadata": {},
   "outputs": [],
   "source": [
    "def escala(imx, escala):\n",
    "    width = int(imx.shape[1] * escala / 100)\n",
    "    height = int(imx.shape[0] * escala / 100)\n",
    "    size = (width, height)\n",
    "    im = cv.resize(imx, size, interpolation = cv.INTER_AREA)\n",
    "    return im"
   ]
  },
  {
   "cell_type": "code",
   "execution_count": 4,
   "id": "2b49ca94-81bf-4aaf-a648-2ea66cc60be6",
   "metadata": {},
   "outputs": [
    {
     "data": {
      "text/plain": [
       "'C:\\\\Users\\\\Rodrigo'"
      ]
     },
     "execution_count": 4,
     "metadata": {},
     "output_type": "execute_result"
    }
   ],
   "source": [
    "pwd"
   ]
  },
  {
   "cell_type": "code",
   "execution_count": 5,
   "id": "1c19c7de",
   "metadata": {},
   "outputs": [],
   "source": [
    "import numpy as np \n",
    "import cv2 as cv\n",
    "\n",
    "rostro = cv.CascadeClassifier('C:\\\\Users\\\\Rodrigo\\\\haarcascade_frontalface_alt.xml')\n",
    "\n",
    "cap = cv.VideoCapture(0)\n",
    "i = 0\n",
    "while True:\n",
    "    ret, frame = cap.read()\n",
    "    gray = cv.cvtColor(frame, cv.COLOR_BGR2GRAY)\n",
    "    rostros = rostro.detectMultiScale(gray, 1.3, 5)\n",
    "    for(x, y, w, h) in rostros:\n",
    "        #frame = cv.rectangle(frame, (x,y), (x+w, y+h), (0, 255, 0), 2)\n",
    "        frame2 = frame[y:y+h, x:x+w]\n",
    "        #cv.imshow('rostros2', frame2)\n",
    "        frame2 = cv.resize(frame2, (100,100), interpolation = cv.INTER_AREA)\n",
    "        cv.imwrite('C:\\\\Users\\\\Rodrigo\\\\Desktop\\\\InteligenciaArtificial\\\\emociones\\\\sorprendido\\\\sorprendido'+str(i)+'.png', frame2)\n",
    "        \n",
    "    cv.imshow('rostros', frame)\n",
    "    i=i+1\n",
    "    k = cv.waitKey(1)\n",
    "    if k == 27:\n",
    "        break\n",
    "cap.release()\n",
    "cv.destroyAllWindows()"
   ]
  },
  {
   "cell_type": "markdown",
   "id": "30d8e041",
   "metadata": {},
   "source": [
    "### Eigenface \n"
   ]
  },
  {
   "cell_type": "code",
   "execution_count": null,
   "id": "8c801e4e",
   "metadata": {},
   "outputs": [
    {
     "name": "stdout",
     "output_type": "stream",
     "text": [
      "['feliz', 'sorprendido', 'triste']\n",
      "744\n"
     ]
    }
   ],
   "source": [
    "import cv2 as cv \n",
    "import numpy as np \n",
    "import os\n",
    "\n",
    "dataSet = 'C:\\\\Users\\\\Rodrigo\\\\Desktop\\\\InteligenciaArtificial\\\\emociones'\n",
    "faces  = os.listdir(dataSet)\n",
    "print(faces)\n",
    "\n",
    "labels = []\n",
    "facesData = []\n",
    "label = 0 \n",
    "for face in faces:\n",
    "    facePath = dataSet+'\\\\'+face\n",
    "    for faceName in os.listdir(facePath):\n",
    "        labels.append(label)\n",
    "        facesData.append(cv.imread(facePath+'\\\\'+faceName,0))\n",
    "    label = label + 1\n",
    "print(np.count_nonzero(np.array(labels)==0)) \n",
    "\n",
    "faceRecognizer = cv.face.FisherFaceRecognizer_create()\n",
    "faceRecognizer.train(facesData, np.array(labels))\n",
    "faceRecognizer.write('emociones2Eigenface.xml')\n",
    "\n"
   ]
  },
  {
   "cell_type": "code",
   "execution_count": 7,
   "id": "130310da",
   "metadata": {},
   "outputs": [],
   "source": [
    "import cv2 as cv\n",
    "import os\n",
    "\n",
    "faceRecognizer = cv.face.FisherFaceRecognizer_create()\n",
    "faceRecognizer.read('emociones2Eigenface.xml')\n",
    "\n",
    "cap = cv.VideoCapture(0)\n",
    "rostro = cv.CascadeClassifier('haarcascade_frontalface_alt.xml')\n",
    "while True:\n",
    "    ret, frame = cap.read()\n",
    "    if ret == False: break\n",
    "    gray = cv.cvtColor(frame, cv.COLOR_BGR2GRAY)\n",
    "    cpGray = gray.copy()\n",
    "    rostros = rostro.detectMultiScale(gray, 1.3, 3)\n",
    "    for(x, y, w, h) in rostros:\n",
    "        frame2 = cpGray[y:y+h, x:x+w]\n",
    "        frame2 = cv.resize(frame2,  (100,100), interpolation=cv.INTER_CUBIC)\n",
    "        result = faceRecognizer.predict(frame2)\n",
    "        cv.putText(frame, '{}'.format(result), (x,y-20), 1,3.3, (0,0,0), 1, cv.LINE_AA)\n",
    "        if result[1] < 400:\n",
    "            cv.putText(frame,'{}'.format(faces[result[0]]),(x,y-25),2,1.1,(0,255,0),1,cv.LINE_AA)\n",
    "            cv.rectangle(frame, (x,y),(x+w,y+h),(0,255,0),2)\n",
    "        else:\n",
    "            cv.putText(frame,'Desconocido',(x,y-20),2,0.8,(0,0,255),1,cv.LINE_AA)\n",
    "            cv.rectangle(frame, (x,y),(x+w,y+h),(0,0,255),2)\n",
    "    cv.imshow('frame', frame)\n",
    "    k = cv.waitKey(1)\n",
    "    if k == 27:\n",
    "        break\n",
    "cap.release()\n",
    "cv.destroyAllWindows()\n"
   ]
  },
  {
   "cell_type": "code",
   "execution_count": null,
   "id": "c11214bb-94cd-42cb-b5a8-26ed111435fc",
   "metadata": {},
   "outputs": [],
   "source": [
    "import cv2 as cv\n",
    "import os\n",
    "import numpy as np"
   ]
  },
  {
   "cell_type": "code",
   "execution_count": null,
   "id": "a4f86e00-cce3-4b8c-a1c1-9422ab67d3b0",
   "metadata": {},
   "outputs": [],
   "source": [
    "def rotar(img, i):\n",
    "    h,w = img.shape[:2]\n",
    "    mw = cv.getRotationMatrix2D((h//2, w//2),45,-1)\n",
    "    img2 = cv.warpAffine(img,mw,(h,w))\n",
    "    cv.imwrite('C:\\\\Users\\\\Rodrigo\\\\Desktop\\\\Inteligencia artificial\\\\datsetwally\\\\rotadas'+str(i)+'.jpg', img2)"
   ]
  },
  {
   "cell_type": "code",
   "execution_count": null,
   "id": "304e87d7-7873-4ad7-9552-2a90e315aa6e",
   "metadata": {},
   "outputs": [],
   "source": [
    "def escalagris (img, i):\n",
    "    gray = cv.cvtColor(img, cv.COLOR_BGR2GRAY)\n",
    "    cv. imwrite('C:\\\\Users\\\\Rodrigo\\\\Desktop\\\\Inteligencia artificial\\\\datsetwally\\\\grises'+str(1)+'.jpg', gray)"
   ]
  },
  {
   "cell_type": "code",
   "execution_count": null,
   "id": "06ab4b6b-d996-4d57-a8dd-d40d4d834498",
   "metadata": {},
   "outputs": [],
   "source": [
    "def escalaimagen(img, i)\n",
    "    img2 = \n",
    "\n",
    "\n",
    "\n",
    "\n",
    "def zoom(img, i):\n",
    "    \"\"\"\n",
    "    Función para aplicar un efecto de zoom a una imagen sin cambiar su tamaño.\n",
    "\n",
    "    Parámetros:\n",
    "        - img: imagen de entrada.\n",
    "        - scale_factor: factor de escala para el zoom.\n",
    "\n",
    "    Retorna:\n",
    "        - img_zoom: imagen con efecto de zoom aplicado.\n",
    "    \"\"\"\n",
    "    # Obtenemos las dimensiones originales de la imagen\n",
    "\n",
    "    scale_factor = 1.5\n",
    "\n",
    "    height, width = img.shape[:2]\n",
    "\n",
    "    # Calculamos nuevas dimensiones\n",
    "    new_height = int(height * scale_factor)\n",
    "    new_width = int(width * scale_factor)\n",
    "\n",
    "    # Redimensionamos la imagen utilizando interpolación bilineal\n",
    "    img_zoom = cv2.resize(img, (new_width, new_height), interpolation=cv2.INTER_LINEAR)\n",
    "\n",
    "    # Recortamos la imagen al tamaño original\n",
    "    start_x = (new_width - width) // 2\n",
    "    start_y = (new_height - height) // 2\n",
    "    img_zoom = img_zoom[start_y:start_y + height, start_x:start_x + width]\n",
    "\n",
    "    return img_zoom\n",
    "\n",
    "# Cargar la imagen\n",
    "image_path = 'ruta/a/la/imagen.jpg'\n",
    "img = cv2.imread(image_path)\n",
    "\n",
    "# Factor de escala para el zoom (ajustar según sea necesario)\n",
    "\n",
    "# Aplicar el efecto de zoom\n",
    "img_zoom = zoom(img, scale_factor)\n",
    "\n",
    "# Mostrar la imagen original y la imagen con efecto de zoom\n",
    "cv2.imshow('Imagen Original', img)\n",
    "cv2.imshow('Imagen con Zoom', img_zoom)\n",
    "cv2.waitKey(0)\n",
    "cv2.destroyAllWindows()"
   ]
  },
  {
   "cell_type": "code",
   "execution_count": null,
   "id": "fb6b2364-9c3f-4bee-8508-b49bf58229c6",
   "metadata": {},
   "outputs": [],
   "source": [
    "i = 0\n",
    "imgPaths = \"C:\\\\Users\\\\Rodrigo\\\\Desktop\\\\Inteligencia artificial\\\\datsetwally\\\\redimensionadas\"\n",
    "nomFiles = os.listdir(imgPaths)\n",
    "for nomFile in nomFiles:\n",
    "    i = i+1\n",
    "    imgPath = imgPaths+\"/\"+nomFile\n",
    "    img = cv.imread(imgPath)\n",
    "    #rotar(img, i)\n",
    "    escalagris(img, i)\n",
    "    #escalaimagen(img,i)"
   ]
  },
  {
   "cell_type": "code",
   "execution_count": null,
   "id": "928ccd0c-521c-42b9-bb3c-15cf3eceae6a",
   "metadata": {},
   "outputs": [],
   "source": []
  }
 ],
 "metadata": {
  "kernelspec": {
   "display_name": "Python 3 (ipykernel)",
   "language": "python",
   "name": "python3"
  },
  "language_info": {
   "codemirror_mode": {
    "name": "ipython",
    "version": 3
   },
   "file_extension": ".py",
   "mimetype": "text/x-python",
   "name": "python",
   "nbconvert_exporter": "python",
   "pygments_lexer": "ipython3",
   "version": "3.12.2"
  }
 },
 "nbformat": 4,
 "nbformat_minor": 5
}
